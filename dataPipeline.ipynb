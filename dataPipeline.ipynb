{
 "cells": [
  {
   "cell_type": "code",
   "execution_count": 9,
   "metadata": {},
   "outputs": [
    {
     "name": "stdout",
     "output_type": "stream",
     "text": [
      "Weather data has been logged to weather_data_log.json\n"
     ]
    }
   ],
   "source": [
    "import requests\n",
    "import json\n",
    "import os\n",
    "\n",
    "#API call for fetching data\n",
    "api_key = \"f7254e102842b863d488c3a98c87e3fd\"\n",
    "city = \"London\"\n",
    "url = f\"http://api.openweathermap.org/data/2.5/weather?q={city}&appid={api_key}\"\n",
    "\n",
    "# fetching weather data\n",
    "response = requests.get(url)\n",
    "data = response.json()\n",
    "\n",
    "# logfile in json format\n",
    "log_file = 'weather_data_log.json'\n",
    "\n",
    "# handling for existing json data\n",
    "if os.path.exists(log_file):\n",
    "    # add new data to the existing log file every fetch from the API\n",
    "    with open(log_file, 'r+') as file:\n",
    "        existing_data = json.load(file)\n",
    "        if not isinstance(existing_data, list):\n",
    "            existing_data = [existing_data]\n",
    "        existing_data.append(data)\n",
    "        file.seek(0)\n",
    "        json.dump(existing_data, file, indent=4)\n",
    "else:\n",
    "    # Create a new log file and write the data\n",
    "    with open(log_file, 'w') as file:\n",
    "        json.dump([data], file, indent=4)\n",
    "\n",
    "print(\"Weather data has been logged to weather_data_log.json\")\n"
   ]
  },
  {
   "cell_type": "code",
   "execution_count": 10,
   "metadata": {},
   "outputs": [
    {
     "name": "stdout",
     "output_type": "stream",
     "text": [
      "    Temperature  Humidity Weather Description   Timestamp\n",
      "0        280.20        93     overcast clouds  1735004647\n",
      "1        280.20        93     overcast clouds  1735004647\n",
      "2        280.20        93     overcast clouds  1735004647\n",
      "3        280.13        94     overcast clouds  1735005099\n",
      "4        280.13        94     overcast clouds  1735005099\n",
      "5        280.17        94     overcast clouds  1735005545\n",
      "6        280.33        94     overcast clouds  1735006934\n",
      "7        280.33        94     overcast clouds  1735006934\n",
      "8        280.33        94     overcast clouds  1735006934\n",
      "9        280.46        93     overcast clouds  1735008098\n",
      "10       280.73        93     overcast clouds  1735008751\n",
      "11       280.73        93     overcast clouds  1735008751\n",
      "12       280.73        93     overcast clouds  1735008751\n",
      "13       280.73        93     overcast clouds  1735008751\n"
     ]
    }
   ],
   "source": [
    "import json\n",
    "import pandas as pd\n",
    "\n",
    "# Check if the log file exists\n",
    "if not os.path.exists(log_file):\n",
    "    print(\"Log file does not exist.\")\n",
    "else:\n",
    "    # Read the log file\n",
    "    with open(log_file, 'r') as file:\n",
    "        data_log = json.load(file)\n",
    "    \n",
    "    # Extract the required data\n",
    "    data_list = []\n",
    "    for entry in data_log:\n",
    "        temp = entry['main']['temp']\n",
    "        humidity = entry['main']['humidity']\n",
    "        weather_description = entry['weather'][0]['description']\n",
    "        timestamp = entry['dt']\n",
    "        data_list.append({\n",
    "            'Temperature': temp,\n",
    "            'Humidity': humidity,\n",
    "            'Weather Description': weather_description,\n",
    "            'Timestamp': timestamp\n",
    "        })\n",
    "    \n",
    "    # Create DataFrame\n",
    "    df = pd.DataFrame(data_list)\n",
    "\n",
    "    print(df)\n"
   ]
  },
  {
   "cell_type": "code",
   "execution_count": null,
   "metadata": {},
   "outputs": [
    {
     "name": "stdout",
     "output_type": "stream",
     "text": [
      "Requirement already satisfied: psycopg2 in c:\\users\\63916\\appdata\\local\\programs\\python\\python311\\lib\\site-packages (2.9.10)\n",
      "Requirement already satisfied: pandas in c:\\users\\63916\\appdata\\local\\programs\\python\\python311\\lib\\site-packages (2.2.2)\n",
      "Requirement already satisfied: numpy>=1.23.2 in c:\\users\\63916\\appdata\\local\\programs\\python\\python311\\lib\\site-packages (from pandas) (1.26.4)\n",
      "Requirement already satisfied: python-dateutil>=2.8.2 in c:\\users\\63916\\appdata\\local\\programs\\python\\python311\\lib\\site-packages (from pandas) (2.9.0.post0)\n",
      "Requirement already satisfied: pytz>=2020.1 in c:\\users\\63916\\appdata\\local\\programs\\python\\python311\\lib\\site-packages (from pandas) (2024.1)\n",
      "Requirement already satisfied: tzdata>=2022.7 in c:\\users\\63916\\appdata\\local\\programs\\python\\python311\\lib\\site-packages (from pandas) (2024.1)\n",
      "Requirement already satisfied: six>=1.5 in c:\\users\\63916\\appdata\\roaming\\python\\python311\\site-packages (from python-dateutil>=2.8.2->pandas) (1.16.0)\n",
      "Note: you may need to restart the kernel to use updated packages.\n"
     ]
    },
    {
     "name": "stderr",
     "output_type": "stream",
     "text": [
      "\n",
      "[notice] A new release of pip is available: 24.0 -> 24.3.1\n",
      "[notice] To update, run: python.exe -m pip install --upgrade pip\n"
     ]
    }
   ],
   "source": [
    "# pip install psycopg2 pandas\n"
   ]
  },
  {
   "cell_type": "code",
   "execution_count": 12,
   "metadata": {},
   "outputs": [
    {
     "name": "stdout",
     "output_type": "stream",
     "text": [
      "Weather data has been inserted into the PostgreSQL database.\n"
     ]
    }
   ],
   "source": [
    "import json\n",
    "import psycopg2\n",
    "import pandas as pd\n",
    "\n",
    "# postgre server connection parameters (localhost)\n",
    "host = \"localhost\"\n",
    "port = \"5432\"   \n",
    "dbname = \"weather_database\"\n",
    "user = \"postgres\"\n",
    "password = \"root\"\n",
    "\n",
    "# connection parameter\n",
    "conn = psycopg2.connect(\n",
    "    host=host,\n",
    "    port=port,\n",
    "    dbname=dbname,\n",
    "    user=user,\n",
    "    password=password\n",
    ")\n",
    "cur = conn.cursor()\n",
    "\n",
    "# read the data from logfile from API fetch\n",
    "log_file = 'weather_data_log.json'\n",
    "with open(log_file, 'r') as file:\n",
    "    data_log = json.load(file)\n",
    "\n",
    "# insert data\n",
    "for entry in data_log:\n",
    "    temp = entry['main']['temp']\n",
    "    humidity = entry['main']['humidity']\n",
    "    weather_description = entry['weather'][0]['description']\n",
    "    timestamp = entry['dt']\n",
    "\n",
    "    cur.execute(\n",
    "        \"INSERT INTO etl_weather_database.weather_data (temperature, humidity, weather_description, timestamp) VALUES (%s, %s, %s, %s)\",\n",
    "        (temp, humidity, weather_description, timestamp)\n",
    "    )\n",
    "\n",
    "# Commit the changes and close the connection\n",
    "conn.commit()\n",
    "cur.close()\n",
    "conn.close()\n",
    "\n",
    "print(\"Weather data has been inserted into the PostgreSQL database.\")\n"
   ]
  },
  {
   "cell_type": "markdown",
   "metadata": {},
   "source": [
    "Simple Data Analysis Script"
   ]
  },
  {
   "cell_type": "code",
   "execution_count": 13,
   "metadata": {},
   "outputs": [
    {
     "data": {
      "image/png": "[encoded data removed]",
      "text/plain": [
       "<Figure size 1000x600 with 1 Axes>"
      ]
     },
     "metadata": {},
     "output_type": "display_data"
    }
   ],
   "source": [
    "import datetime\n",
    "import matplotlib.pyplot as plt\n",
    "\n",
    "\n",
    "if not os.path.exists(log_file):\n",
    "    print(\"Log file does not exist.\")\n",
    "else:\n",
    "    # Read the log file\n",
    "    with open(log_file, 'r') as file:\n",
    "        data_log = json.load(file)\n",
    "    \n",
    "    # Extract the required data\n",
    "    data_list = []\n",
    "    for entry in data_log:\n",
    "        temp = entry['main']['temp']\n",
    "        humidity = entry['main']['humidity']\n",
    "        weather_description = entry['weather'][0]['description']\n",
    "        timestamp = entry['dt']\n",
    "        data_list.append({\n",
    "            'Temperature': temp,\n",
    "            'Humidity': humidity,\n",
    "            'Weather Description': weather_description,\n",
    "            'Timestamp': timestamp\n",
    "        })\n",
    "# Example weather data (temperature and date)\n",
    "weather_data = [\n",
    "    {\"date\": \"2024-12-17\", \"temperature\": 278},\n",
    "    {\"date\": \"2024-12-18\", \"temperature\": 279},\n",
    "    {\"date\": \"2024-12-19\", \"temperature\": 280},\n",
    "    {\"date\": \"2024-12-20\", \"temperature\": 281},\n",
    "    {\"date\": \"2024-12-21\", \"temperature\": 282},\n",
    "    {\"date\": \"2024-12-22\", \"temperature\": 283},\n",
    "    {\"date\": \"2024-12-23\", \"temperature\": 284},\n",
    "]\n",
    "\n",
    "# Extract dates and temperatures\n",
    "dates = [datetime.datetime.strptime(record[\"date\"], \"%Y-%m-%d\") for record in weather_data]\n",
    "temperatures = [record[\"temperature\"] for record in weather_data]\n",
    "\n",
    "# Plotting the temperature over time\n",
    "plt.figure(figsize=(10, 6))\n",
    "plt.plot(dates, temperatures, marker='o', linestyle='-', color='b')\n",
    "\n",
    "# Formatting the plot\n",
    "plt.title('Temperature over Time')\n",
    "plt.xlabel('Date')\n",
    "plt.ylabel('Temperature (K)')\n",
    "plt.xticks(rotation=45)  # Rotate date labels for better readability\n",
    "plt.grid(True)\n",
    "\n",
    "# Show the plot\n",
    "plt.tight_layout()\n",
    "plt.show()\n"
   ]
  },
  {
   "cell_type": "markdown",
   "metadata": {},
   "source": []
  }
 ],
 "metadata": {
  "kernelspec": {
   "display_name": "Python 3",
   "language": "python",
   "name": "python3"
  },
  "language_info": {
   "codemirror_mode": {
    "name": "ipython",
    "version": 3
   },
   "file_extension": ".py",
   "mimetype": "text/x-python",
   "name": "python",
   "nbconvert_exporter": "python",
   "pygments_lexer": "ipython3",
   "version": "3.11.1"
  }
 },
 "nbformat": 4,
 "nbformat_minor": 2
}
